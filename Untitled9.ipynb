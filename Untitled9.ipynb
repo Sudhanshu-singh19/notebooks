{
  "nbformat": 4,
  "nbformat_minor": 0,
  "metadata": {
    "colab": {
      "provenance": [],
      "authorship_tag": "ABX9TyMajUhCv6RX/dBN37GA2ur9",
      "include_colab_link": true
    },
    "kernelspec": {
      "name": "python3",
      "display_name": "Python 3"
    },
    "language_info": {
      "name": "python"
    }
  },
  "cells": [
    {
      "cell_type": "markdown",
      "metadata": {
        "id": "view-in-github",
        "colab_type": "text"
      },
      "source": [
        "<a href=\"https://colab.research.google.com/github/Sudhanshu-singh19/notebooks/blob/main/Untitled9.ipynb\" target=\"_parent\"><img src=\"https://colab.research.google.com/assets/colab-badge.svg\" alt=\"Open In Colab\"/></a>"
      ]
    },
    {
      "cell_type": "code",
      "execution_count": null,
      "metadata": {
        "id": "Ixiz5wUHdAlT"
      },
      "outputs": [],
      "source": [
        "import pandas as pd\n",
        "import numpy as np"
      ]
    },
    {
      "cell_type": "code",
      "source": [
        "df_tech =  pd.read_excel('data.xlsx', sheet_name='Technology')\n",
        "df_uc = pd.read_excel('data.xlsx', sheet_name='Usecase')"
      ],
      "metadata": {
        "id": "oOeIsAegdfLd"
      },
      "execution_count": null,
      "outputs": []
    },
    {
      "cell_type": "code",
      "source": [
        "df_tech.shape, df_uc.shape"
      ],
      "metadata": {
        "colab": {
          "base_uri": "https://localhost:8080/"
        },
        "id": "EPRd0iK-gbS6",
        "outputId": "56b5e4fd-e916-4082-c1bb-9540e754a19f"
      },
      "execution_count": null,
      "outputs": [
        {
          "output_type": "execute_result",
          "data": {
            "text/plain": [
              "((558, 13), (421, 6))"
            ]
          },
          "metadata": {},
          "execution_count": 95
        }
      ]
    },
    {
      "cell_type": "code",
      "source": [
        "import ast\n",
        "Title_lst = []\n",
        "industry_lst = []\n",
        "for idx_tech, val_tech in enumerate(df_tech['Title']):\n",
        "  clubbed_industry = []\n",
        "  if df_tech['Industry'][idx_tech][-2] != \"'\":\n",
        "    df_tech['Industry'][idx_tech] = df_tech['Industry'][idx_tech][:len(df_tech['Industry'][idx_tech]) - 2] + \"']\"\n",
        "  clubbed_industry.extend(ast.literal_eval(df_tech['Industry'][idx_tech]))\n",
        "  for idx_uc, val_uc in enumerate(df_uc['Title']):\n",
        "    if str(val_uc).lower().strip().startswith(str(val_tech).lower().strip()):\n",
        "      clubbed_industry.extend(ast.literal_eval(df_uc['Industry'][idx_uc]))\n",
        "  Title_lst.append(val_tech)\n",
        "  industry_lst.append(list(set(clubbed_industry)))"
      ],
      "metadata": {
        "id": "V0bkg-nndydS"
      },
      "execution_count": null,
      "outputs": []
    },
    {
      "cell_type": "code",
      "source": [
        "len(Title_lst), len(industry_lst)"
      ],
      "metadata": {
        "colab": {
          "base_uri": "https://localhost:8080/"
        },
        "id": "zjiGdV1df6KH",
        "outputId": "38794393-e867-4276-947a-d6e9504260d9"
      },
      "execution_count": null,
      "outputs": [
        {
          "output_type": "execute_result",
          "data": {
            "text/plain": [
              "(558, 558)"
            ]
          },
          "metadata": {},
          "execution_count": 43
        }
      ]
    },
    {
      "cell_type": "code",
      "source": [
        "df_output = pd.DataFrame.from_dict({'Title': Title_lst, 'Industry': industry_lst})\n",
        "df_output.head()"
      ],
      "metadata": {
        "colab": {
          "base_uri": "https://localhost:8080/",
          "height": 206
        },
        "id": "M5MfRjC8g7Pe",
        "outputId": "2bd1bb11-bfa4-4ebb-d8fd-cae51a01f77d"
      },
      "execution_count": null,
      "outputs": [
        {
          "output_type": "execute_result",
          "data": {
            "text/plain": [
              "                                        Title  \\\n",
              "0  flexible holistic organic waste management   \n",
              "1                                        iGTB   \n",
              "2                              Météo Carbone®   \n",
              "3                               \\nFLUIDKLEEN®   \n",
              "4                               ACTIFLO® CARB   \n",
              "\n",
              "                              Industry  \n",
              "0                            [textile]  \n",
              "1         [automotive, home appliance]  \n",
              "2  [travel and hospitality, chemicals]  \n",
              "3                          [chemicals]  \n",
              "4  [travel and hospitality, chemicals]  "
            ],
            "text/html": [
              "\n",
              "  <div id=\"df-aceb377e-b51a-4a1f-8df1-9a20edd71285\">\n",
              "    <div class=\"colab-df-container\">\n",
              "      <div>\n",
              "<style scoped>\n",
              "    .dataframe tbody tr th:only-of-type {\n",
              "        vertical-align: middle;\n",
              "    }\n",
              "\n",
              "    .dataframe tbody tr th {\n",
              "        vertical-align: top;\n",
              "    }\n",
              "\n",
              "    .dataframe thead th {\n",
              "        text-align: right;\n",
              "    }\n",
              "</style>\n",
              "<table border=\"1\" class=\"dataframe\">\n",
              "  <thead>\n",
              "    <tr style=\"text-align: right;\">\n",
              "      <th></th>\n",
              "      <th>Title</th>\n",
              "      <th>Industry</th>\n",
              "    </tr>\n",
              "  </thead>\n",
              "  <tbody>\n",
              "    <tr>\n",
              "      <th>0</th>\n",
              "      <td>flexible holistic organic waste management</td>\n",
              "      <td>[textile]</td>\n",
              "    </tr>\n",
              "    <tr>\n",
              "      <th>1</th>\n",
              "      <td>iGTB</td>\n",
              "      <td>[automotive, home appliance]</td>\n",
              "    </tr>\n",
              "    <tr>\n",
              "      <th>2</th>\n",
              "      <td>Météo Carbone®</td>\n",
              "      <td>[travel and hospitality, chemicals]</td>\n",
              "    </tr>\n",
              "    <tr>\n",
              "      <th>3</th>\n",
              "      <td>\\nFLUIDKLEEN®</td>\n",
              "      <td>[chemicals]</td>\n",
              "    </tr>\n",
              "    <tr>\n",
              "      <th>4</th>\n",
              "      <td>ACTIFLO® CARB</td>\n",
              "      <td>[travel and hospitality, chemicals]</td>\n",
              "    </tr>\n",
              "  </tbody>\n",
              "</table>\n",
              "</div>\n",
              "      <button class=\"colab-df-convert\" onclick=\"convertToInteractive('df-aceb377e-b51a-4a1f-8df1-9a20edd71285')\"\n",
              "              title=\"Convert this dataframe to an interactive table.\"\n",
              "              style=\"display:none;\">\n",
              "        \n",
              "  <svg xmlns=\"http://www.w3.org/2000/svg\" height=\"24px\"viewBox=\"0 0 24 24\"\n",
              "       width=\"24px\">\n",
              "    <path d=\"M0 0h24v24H0V0z\" fill=\"none\"/>\n",
              "    <path d=\"M18.56 5.44l.94 2.06.94-2.06 2.06-.94-2.06-.94-.94-2.06-.94 2.06-2.06.94zm-11 1L8.5 8.5l.94-2.06 2.06-.94-2.06-.94L8.5 2.5l-.94 2.06-2.06.94zm10 10l.94 2.06.94-2.06 2.06-.94-2.06-.94-.94-2.06-.94 2.06-2.06.94z\"/><path d=\"M17.41 7.96l-1.37-1.37c-.4-.4-.92-.59-1.43-.59-.52 0-1.04.2-1.43.59L10.3 9.45l-7.72 7.72c-.78.78-.78 2.05 0 2.83L4 21.41c.39.39.9.59 1.41.59.51 0 1.02-.2 1.41-.59l7.78-7.78 2.81-2.81c.8-.78.8-2.07 0-2.86zM5.41 20L4 18.59l7.72-7.72 1.47 1.35L5.41 20z\"/>\n",
              "  </svg>\n",
              "      </button>\n",
              "      \n",
              "  <style>\n",
              "    .colab-df-container {\n",
              "      display:flex;\n",
              "      flex-wrap:wrap;\n",
              "      gap: 12px;\n",
              "    }\n",
              "\n",
              "    .colab-df-convert {\n",
              "      background-color: #E8F0FE;\n",
              "      border: none;\n",
              "      border-radius: 50%;\n",
              "      cursor: pointer;\n",
              "      display: none;\n",
              "      fill: #1967D2;\n",
              "      height: 32px;\n",
              "      padding: 0 0 0 0;\n",
              "      width: 32px;\n",
              "    }\n",
              "\n",
              "    .colab-df-convert:hover {\n",
              "      background-color: #E2EBFA;\n",
              "      box-shadow: 0px 1px 2px rgba(60, 64, 67, 0.3), 0px 1px 3px 1px rgba(60, 64, 67, 0.15);\n",
              "      fill: #174EA6;\n",
              "    }\n",
              "\n",
              "    [theme=dark] .colab-df-convert {\n",
              "      background-color: #3B4455;\n",
              "      fill: #D2E3FC;\n",
              "    }\n",
              "\n",
              "    [theme=dark] .colab-df-convert:hover {\n",
              "      background-color: #434B5C;\n",
              "      box-shadow: 0px 1px 3px 1px rgba(0, 0, 0, 0.15);\n",
              "      filter: drop-shadow(0px 1px 2px rgba(0, 0, 0, 0.3));\n",
              "      fill: #FFFFFF;\n",
              "    }\n",
              "  </style>\n",
              "\n",
              "      <script>\n",
              "        const buttonEl =\n",
              "          document.querySelector('#df-aceb377e-b51a-4a1f-8df1-9a20edd71285 button.colab-df-convert');\n",
              "        buttonEl.style.display =\n",
              "          google.colab.kernel.accessAllowed ? 'block' : 'none';\n",
              "\n",
              "        async function convertToInteractive(key) {\n",
              "          const element = document.querySelector('#df-aceb377e-b51a-4a1f-8df1-9a20edd71285');\n",
              "          const dataTable =\n",
              "            await google.colab.kernel.invokeFunction('convertToInteractive',\n",
              "                                                     [key], {});\n",
              "          if (!dataTable) return;\n",
              "\n",
              "          const docLinkHtml = 'Like what you see? Visit the ' +\n",
              "            '<a target=\"_blank\" href=https://colab.research.google.com/notebooks/data_table.ipynb>data table notebook</a>'\n",
              "            + ' to learn more about interactive tables.';\n",
              "          element.innerHTML = '';\n",
              "          dataTable['output_type'] = 'display_data';\n",
              "          await google.colab.output.renderOutput(dataTable, element);\n",
              "          const docLink = document.createElement('div');\n",
              "          docLink.innerHTML = docLinkHtml;\n",
              "          element.appendChild(docLink);\n",
              "        }\n",
              "      </script>\n",
              "    </div>\n",
              "  </div>\n",
              "  "
            ]
          },
          "metadata": {},
          "execution_count": 45
        }
      ]
    },
    {
      "cell_type": "code",
      "source": [
        "df_output.to_excel(\"output_sheet.xlsx\")"
      ],
      "metadata": {
        "id": "k99lkuYthZLt"
      },
      "execution_count": null,
      "outputs": []
    },
    {
      "cell_type": "code",
      "source": [
        "\n",
        "\n",
        "industry_name_standard = ['Industries','Agriculture','Automotive','Aviation and Aerospace','Beauty and Personal care','Chemicals','Construction','Education','Electronics & Semiconductor','Energy and Utility','Enterprise and Infrastructure','Entertainment','Finance','Food and Beverages','Healthcare','Home Appliance','HVAC','Logistics','Manufacture','Military and Defence','Mining','Oil and Gas','Packaging','Retail','Robotics','Services','Sports','Telecom','Textile','Travel and Hospitality']\n",
        "\n",
        "# dict_config = {}\n",
        "unique_industry_map = []\n",
        "for idx, val in enumerate(df_tech['Industry']):\n",
        "  if val[-2] != \"'\":\n",
        "    val = val[:len(val) - 2] + \"']\"\n",
        "  unique_industry_map.extend(ast.literal_eval(val))\n",
        "for idx, val in enumerate(df_uc['Industry']):\n",
        "  if str(val) != 'nan':\n",
        "    if val[-2] != \"'\":\n",
        "      val = val[:len(val) - 2] + \"']\"\n",
        "    unique_industry_map.extend(ast.literal_eval(val))\n",
        "\n",
        "unique_industry_map = list(set(unique_industry_map))\n",
        "unique_industry_map"
      ],
      "metadata": {
        "colab": {
          "base_uri": "https://localhost:8080/"
        },
        "id": "AgvR-HpU0S3W",
        "outputId": "ab17ac6d-6f65-410f-cbe5-0225fcc8855f"
      },
      "execution_count": null,
      "outputs": [
        {
          "output_type": "execute_result",
          "data": {
            "text/plain": [
              "['textiles',\n",
              " 'oil and gas',\n",
              " 'oil_and_gas',\n",
              " 'mining',\n",
              " 'home appliance',\n",
              " 'textile',\n",
              " 'healthcare',\n",
              " 'manufacture',\n",
              " 'Food and Beverages',\n",
              " 'Agriculture',\n",
              " 'Chemicals',\n",
              " 'pharmaceutical',\n",
              " 'agriculture',\n",
              " 'Mining',\n",
              " 'construction',\n",
              " 'Enterprise and Infrastructure',\n",
              " 'Electricity',\n",
              " 'logistics',\n",
              " 'chemical',\n",
              " 'military and defence',\n",
              " 'Chemicals & Energy',\n",
              " 'aviation and aerospace',\n",
              " 'Energy and Utility',\n",
              " 'enterprise and infrastructure',\n",
              " 'pharmaceuticals',\n",
              " 'energy and utility',\n",
              " 'pulp & paper',\n",
              " 'manufacturing',\n",
              " 'pulp and paper',\n",
              " 'Travel and Hospitality',\n",
              " 'automotive',\n",
              " 'food and beverages',\n",
              " 'energy',\n",
              " 'chemicals',\n",
              " 'Energy and utility',\n",
              " 'Automotive',\n",
              " 'Logistics ',\n",
              " 'hvac',\n",
              " 'food and beverage',\n",
              " 'travel and hospitality',\n",
              " 'electronics & semiconductor',\n",
              " 'finance',\n",
              " 'Oil and Gas',\n",
              " 'food and bevarages']"
            ]
          },
          "metadata": {},
          "execution_count": 78
        }
      ]
    },
    {
      "cell_type": "code",
      "source": [
        "dict_config = {'industries': 'Industries',\n",
        " 'agriculture': 'Agriculture',\n",
        " 'Agriculture': 'Agriculture',\n",
        " 'automotive': 'Automotive',\n",
        " 'aviation and aerospace': 'Aviation and Aerospace',\n",
        " 'beauty and personal care': 'Beauty and Personal care',\n",
        " 'chemicals': 'Chemicals',\n",
        " 'construction': 'Construction',\n",
        " 'education': 'Education',\n",
        " 'electronics & semiconductor': 'Electronics & Semiconductor',\n",
        " 'energy and utility': 'Energy and Utility',\n",
        " 'Energy and utility': 'Energy and Utility',\n",
        " 'Energy and Utility': 'Energy and Utility',\n",
        " 'enterprise and infrastructure': 'Enterprise and Infrastructure',\n",
        " 'enterprise and Infrastructure': 'Enterprise and Infrastructure',\n",
        " 'entertainment': 'Entertainment',\n",
        " 'finance': 'Finance',\n",
        " 'food and beverages': 'Food and Beverages',\n",
        " 'Food and Beverages': 'Food and Beverages',\n",
        " 'food and beverage': 'Food and Beverages',\n",
        " 'healthcare': 'Healthcare',\n",
        " 'home appliance': 'Home Appliance',\n",
        " 'hvac': 'HVAC',\n",
        " 'logistics': 'Logistics',\n",
        " 'manufacture': 'Manufacture',\n",
        " 'military and defence': 'Military and Defence',\n",
        " 'mining': 'Mining',\n",
        " 'oil and gas': 'Oil and Gas',\n",
        " 'packaging': 'Packaging',\n",
        " 'retail': 'Retail',\n",
        " 'robotics': 'Robotics',\n",
        " 'services': 'Services',\n",
        " 'sports': 'Sports',\n",
        " 'telecom': 'Telecom',\n",
        " 'textile': 'Textile',\n",
        " 'textiles': 'Textile',\n",
        " 'travel and hospitality': 'Travel and Hospitality',\n",
        " 'Travel and Hospitality': 'Travel and Hospitality',\n",
        " 'Oil and Gas': 'Oil and Gas',\n",
        " 'oil_and_gas': 'Oil and Gas'}"
      ],
      "metadata": {
        "id": "3DcqH69hTH_D"
      },
      "execution_count": null,
      "outputs": []
    },
    {
      "cell_type": "code",
      "source": [
        "import json\n",
        "json_object = json.dumps(dict_config, indent=4)\n",
        "\n",
        "# Writing to sample.json\n",
        "with open(\"config.json\", \"w\") as f:\n",
        "  f.write(json_object)"
      ],
      "metadata": {
        "id": "urZYhxAtM3V6"
      },
      "execution_count": null,
      "outputs": []
    },
    {
      "cell_type": "code",
      "source": [
        "with open('config.json', 'r') as f:\n",
        "  ind_dict = json.load(f)\n",
        "ind_dict"
      ],
      "metadata": {
        "colab": {
          "base_uri": "https://localhost:8080/"
        },
        "id": "Dqo1FVAYN-67",
        "outputId": "2a5cb48d-e9bb-49e2-beff-79a99de5660b"
      },
      "execution_count": null,
      "outputs": [
        {
          "output_type": "execute_result",
          "data": {
            "text/plain": [
              "{'industries': 'Industries',\n",
              " 'agriculture': 'Agriculture',\n",
              " 'Agriculture': 'Agriculture',\n",
              " 'automotive': 'Automotive',\n",
              " 'aviation and aerospace': 'Aviation and Aerospace',\n",
              " 'beauty and personal care': 'Beauty and Personal care',\n",
              " 'chemicals': 'Chemicals',\n",
              " 'construction': 'Construction',\n",
              " 'education': 'Education',\n",
              " 'electronics & semiconductor': 'Electronics & Semiconductor',\n",
              " 'energy and utility': 'Energy and Utility',\n",
              " 'Energy and utility': 'Energy and Utility',\n",
              " 'Energy and Utility': 'Energy and Utility',\n",
              " 'enterprise and infrastructure': 'Enterprise and Infrastructure',\n",
              " 'enterprise and Infrastructure': 'Enterprise and Infrastructure',\n",
              " 'entertainment': 'Entertainment',\n",
              " 'finance': 'Finance',\n",
              " 'food and beverages': 'Food and Beverages',\n",
              " 'Food and Beverages': 'Food and Beverages',\n",
              " 'food and beverage': 'Food and Beverages',\n",
              " 'healthcare': 'Healthcare',\n",
              " 'home appliance': 'Home Appliance',\n",
              " 'hvac': 'HVAC',\n",
              " 'logistics': 'Logistics',\n",
              " 'manufacture': 'Manufacture',\n",
              " 'military and defence': 'Military and Defence',\n",
              " 'mining': 'Mining',\n",
              " 'oil and gas': 'Oil and Gas',\n",
              " 'packaging': 'Packaging',\n",
              " 'retail': 'Retail',\n",
              " 'robotics': 'Robotics',\n",
              " 'services': 'Services',\n",
              " 'sports': 'Sports',\n",
              " 'telecom': 'Telecom',\n",
              " 'textile': 'Textile',\n",
              " 'textiles': 'Textile',\n",
              " 'travel and hospitality': 'Travel and Hospitality',\n",
              " 'Travel and Hospitality': 'Travel and Hospitality',\n",
              " 'Oil and Gas': 'Oil and Gas',\n",
              " 'oil_and_gas': 'Oil and Gas'}"
            ]
          },
          "metadata": {},
          "execution_count": 81
        }
      ]
    },
    {
      "cell_type": "code",
      "source": [
        "mapped_list_tech = []\n",
        "mapped_industry_tech = []\n",
        "for idx_tech, val_tech in enumerate(df_tech['Title']):\n",
        "  mapped_dict_list = []\n",
        "  ind = df_tech['Industry_Merged'][idx_tech]\n",
        "  for val in ast.literal_eval(ind):\n",
        "    mapped_dict = {}\n",
        "    if val in ind_dict.keys():\n",
        "      mapped_dict[\"unmapped\"] = val\n",
        "      mapped_dict[\"mapped\"] = ind_dict[val]\n",
        "    else:\n",
        "      mapped_dict[\"unmapped\"] = val\n",
        "      mapped_dict[\"mapped\"] = ''\n",
        "    mapped_dict_list.append(mapped_dict)\n",
        "  mapped_dict_list = json.dumps(mapped_dict_list)\n",
        "  mapped_list_tech.append(mapped_dict_list)\n",
        "  mapped_industry_tech.append(ind)"
      ],
      "metadata": {
        "id": "E2oe4-FMNu91"
      },
      "execution_count": null,
      "outputs": []
    },
    {
      "cell_type": "code",
      "source": [
        "len(mapped_list_tech), len(mapped_industry_tech)"
      ],
      "metadata": {
        "colab": {
          "base_uri": "https://localhost:8080/"
        },
        "id": "EFuL7hK8PTrx",
        "outputId": "7e1f5989-e324-439a-dd7b-3fa4477b5213"
      },
      "execution_count": null,
      "outputs": [
        {
          "output_type": "execute_result",
          "data": {
            "text/plain": [
              "(558, 558)"
            ]
          },
          "metadata": {},
          "execution_count": 101
        }
      ]
    },
    {
      "cell_type": "code",
      "source": [
        "mapped_list_uc = []\n",
        "mapped_industry_uc = []\n",
        "for idx_tech, val_tech in enumerate(df_uc['Title']):\n",
        "  mapped_dict_list = []\n",
        "  ind = df_uc['Industry'][idx_tech]\n",
        "  if str(ind) != 'nan':\n",
        "    if ind[-2] != \"'\":\n",
        "          ind = ind[:len(ind) - 2] + \"']\"\n",
        "    for val in ast.literal_eval(ind):\n",
        "      mapped_dict = {}\n",
        "      if val in ind_dict.keys():\n",
        "        mapped_dict[\"unmapped\"] = val\n",
        "        mapped_dict[\"mapped\"] = ind_dict[val]\n",
        "      else:\n",
        "        mapped_dict[\"unmapped\"] = val\n",
        "        mapped_dict[\"mapped\"] = ''\n",
        "      mapped_dict_list.append(mapped_dict)\n",
        "  mapped_dict_list = json.dumps(mapped_dict_list)\n",
        "  mapped_list_uc.append(mapped_dict_list)\n",
        "  mapped_industry_uc.append(ind)"
      ],
      "metadata": {
        "id": "AnH8F0oTZb3I"
      },
      "execution_count": null,
      "outputs": []
    },
    {
      "cell_type": "code",
      "source": [
        "df_tech_map = pd.DataFrame.from_dict({\"Industry_tech\": mapped_industry_tech, \"Industry_Mapping_tech\": mapped_list_tech})\n",
        "df_tech_map.to_excel('tech_map.xlsx')\n",
        "df_uc_map = pd.DataFrame.from_dict({\"Industry_uc\": mapped_industry_uc, \"Industry_Mapping_uc\": mapped_list_uc})\n",
        "df_uc_map.to_excel('uc_map.xlsx')"
      ],
      "metadata": {
        "id": "UAvlmvMlY9hh"
      },
      "execution_count": null,
      "outputs": []
    },
    {
      "cell_type": "code",
      "source": [
        "domain_lst = []\n",
        "final_domain_lst = []\n",
        "merged_industry_lst = []\n",
        "for idx, val in enumerate(df_tech['Domain']):\n",
        "    if val not in domain_lst:\n",
        "      domain_lst.append(val)\n",
        "      final_domain_lst.append(val)\n",
        "      merged_industry_lst.append(df_tech['Industry_Merged'][idx])\n",
        "\n",
        "len(final_domain_lst), len(merged_industry_lst)"
      ],
      "metadata": {
        "colab": {
          "base_uri": "https://localhost:8080/"
        },
        "id": "Irx85uuvtv_-",
        "outputId": "f10767a2-adfe-4943-88f1-a454dcb8691a"
      },
      "execution_count": null,
      "outputs": [
        {
          "output_type": "execute_result",
          "data": {
            "text/plain": [
              "(127, 127)"
            ]
          },
          "metadata": {},
          "execution_count": 126
        }
      ]
    },
    {
      "cell_type": "code",
      "source": [
        "df_domain = pd.DataFrame.from_dict({'domain': final_domain_lst, 'Industry': merged_industry_lst})\n",
        "df_domain.head()"
      ],
      "metadata": {
        "colab": {
          "base_uri": "https://localhost:8080/",
          "height": 206
        },
        "id": "sLz1qPWwvGXe",
        "outputId": "e2f47acf-3618-4f7b-cfe2-f366928ba7a3"
      },
      "execution_count": null,
      "outputs": [
        {
          "output_type": "execute_result",
          "data": {
            "text/plain": [
              "                  domain                                 Industry\n",
              "0  griffinrefineries.com                            ['chemicals']\n",
              "1      getabecboiler.com         ['automotive', 'home appliance']\n",
              "2               suez.com  ['travel and hospitality', 'chemicals']\n",
              "3       cleanharbors.com                            ['chemicals']\n",
              "4             veolia.com  ['travel and hospitality', 'chemicals']"
            ],
            "text/html": [
              "\n",
              "  <div id=\"df-1466ba45-0bcd-475a-b5af-6c0744c6ee61\">\n",
              "    <div class=\"colab-df-container\">\n",
              "      <div>\n",
              "<style scoped>\n",
              "    .dataframe tbody tr th:only-of-type {\n",
              "        vertical-align: middle;\n",
              "    }\n",
              "\n",
              "    .dataframe tbody tr th {\n",
              "        vertical-align: top;\n",
              "    }\n",
              "\n",
              "    .dataframe thead th {\n",
              "        text-align: right;\n",
              "    }\n",
              "</style>\n",
              "<table border=\"1\" class=\"dataframe\">\n",
              "  <thead>\n",
              "    <tr style=\"text-align: right;\">\n",
              "      <th></th>\n",
              "      <th>domain</th>\n",
              "      <th>Industry</th>\n",
              "    </tr>\n",
              "  </thead>\n",
              "  <tbody>\n",
              "    <tr>\n",
              "      <th>0</th>\n",
              "      <td>griffinrefineries.com</td>\n",
              "      <td>['chemicals']</td>\n",
              "    </tr>\n",
              "    <tr>\n",
              "      <th>1</th>\n",
              "      <td>getabecboiler.com</td>\n",
              "      <td>['automotive', 'home appliance']</td>\n",
              "    </tr>\n",
              "    <tr>\n",
              "      <th>2</th>\n",
              "      <td>suez.com</td>\n",
              "      <td>['travel and hospitality', 'chemicals']</td>\n",
              "    </tr>\n",
              "    <tr>\n",
              "      <th>3</th>\n",
              "      <td>cleanharbors.com</td>\n",
              "      <td>['chemicals']</td>\n",
              "    </tr>\n",
              "    <tr>\n",
              "      <th>4</th>\n",
              "      <td>veolia.com</td>\n",
              "      <td>['travel and hospitality', 'chemicals']</td>\n",
              "    </tr>\n",
              "  </tbody>\n",
              "</table>\n",
              "</div>\n",
              "      <button class=\"colab-df-convert\" onclick=\"convertToInteractive('df-1466ba45-0bcd-475a-b5af-6c0744c6ee61')\"\n",
              "              title=\"Convert this dataframe to an interactive table.\"\n",
              "              style=\"display:none;\">\n",
              "        \n",
              "  <svg xmlns=\"http://www.w3.org/2000/svg\" height=\"24px\"viewBox=\"0 0 24 24\"\n",
              "       width=\"24px\">\n",
              "    <path d=\"M0 0h24v24H0V0z\" fill=\"none\"/>\n",
              "    <path d=\"M18.56 5.44l.94 2.06.94-2.06 2.06-.94-2.06-.94-.94-2.06-.94 2.06-2.06.94zm-11 1L8.5 8.5l.94-2.06 2.06-.94-2.06-.94L8.5 2.5l-.94 2.06-2.06.94zm10 10l.94 2.06.94-2.06 2.06-.94-2.06-.94-.94-2.06-.94 2.06-2.06.94z\"/><path d=\"M17.41 7.96l-1.37-1.37c-.4-.4-.92-.59-1.43-.59-.52 0-1.04.2-1.43.59L10.3 9.45l-7.72 7.72c-.78.78-.78 2.05 0 2.83L4 21.41c.39.39.9.59 1.41.59.51 0 1.02-.2 1.41-.59l7.78-7.78 2.81-2.81c.8-.78.8-2.07 0-2.86zM5.41 20L4 18.59l7.72-7.72 1.47 1.35L5.41 20z\"/>\n",
              "  </svg>\n",
              "      </button>\n",
              "      \n",
              "  <style>\n",
              "    .colab-df-container {\n",
              "      display:flex;\n",
              "      flex-wrap:wrap;\n",
              "      gap: 12px;\n",
              "    }\n",
              "\n",
              "    .colab-df-convert {\n",
              "      background-color: #E8F0FE;\n",
              "      border: none;\n",
              "      border-radius: 50%;\n",
              "      cursor: pointer;\n",
              "      display: none;\n",
              "      fill: #1967D2;\n",
              "      height: 32px;\n",
              "      padding: 0 0 0 0;\n",
              "      width: 32px;\n",
              "    }\n",
              "\n",
              "    .colab-df-convert:hover {\n",
              "      background-color: #E2EBFA;\n",
              "      box-shadow: 0px 1px 2px rgba(60, 64, 67, 0.3), 0px 1px 3px 1px rgba(60, 64, 67, 0.15);\n",
              "      fill: #174EA6;\n",
              "    }\n",
              "\n",
              "    [theme=dark] .colab-df-convert {\n",
              "      background-color: #3B4455;\n",
              "      fill: #D2E3FC;\n",
              "    }\n",
              "\n",
              "    [theme=dark] .colab-df-convert:hover {\n",
              "      background-color: #434B5C;\n",
              "      box-shadow: 0px 1px 3px 1px rgba(0, 0, 0, 0.15);\n",
              "      filter: drop-shadow(0px 1px 2px rgba(0, 0, 0, 0.3));\n",
              "      fill: #FFFFFF;\n",
              "    }\n",
              "  </style>\n",
              "\n",
              "      <script>\n",
              "        const buttonEl =\n",
              "          document.querySelector('#df-1466ba45-0bcd-475a-b5af-6c0744c6ee61 button.colab-df-convert');\n",
              "        buttonEl.style.display =\n",
              "          google.colab.kernel.accessAllowed ? 'block' : 'none';\n",
              "\n",
              "        async function convertToInteractive(key) {\n",
              "          const element = document.querySelector('#df-1466ba45-0bcd-475a-b5af-6c0744c6ee61');\n",
              "          const dataTable =\n",
              "            await google.colab.kernel.invokeFunction('convertToInteractive',\n",
              "                                                     [key], {});\n",
              "          if (!dataTable) return;\n",
              "\n",
              "          const docLinkHtml = 'Like what you see? Visit the ' +\n",
              "            '<a target=\"_blank\" href=https://colab.research.google.com/notebooks/data_table.ipynb>data table notebook</a>'\n",
              "            + ' to learn more about interactive tables.';\n",
              "          element.innerHTML = '';\n",
              "          dataTable['output_type'] = 'display_data';\n",
              "          await google.colab.output.renderOutput(dataTable, element);\n",
              "          const docLink = document.createElement('div');\n",
              "          docLink.innerHTML = docLinkHtml;\n",
              "          element.appendChild(docLink);\n",
              "        }\n",
              "      </script>\n",
              "    </div>\n",
              "  </div>\n",
              "  "
            ]
          },
          "metadata": {},
          "execution_count": 127
        }
      ]
    },
    {
      "cell_type": "code",
      "source": [
        "df_domain.to_excel('domain_indusrty_mapping.xlsx')"
      ],
      "metadata": {
        "id": "1dMcrK60vV1x"
      },
      "execution_count": null,
      "outputs": []
    },
    {
      "cell_type": "code",
      "source": [],
      "metadata": {
        "id": "DEuhUAqjvaXz"
      },
      "execution_count": null,
      "outputs": []
    }
  ]
}